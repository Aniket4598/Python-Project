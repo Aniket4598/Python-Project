{
 "cells": [
  {
   "cell_type": "code",
   "execution_count": null,
   "id": "a211250b-d41e-403f-b9fa-9163465cb4e0",
   "metadata": {},
   "outputs": [],
   "source": [
    "def mine(a,b):\n",
    "    m=a\n",
    "    if b=='Months':\n",
    "        n=m*12\n",
    "    elif b=='Weeks':\n",
    "        n=m*36\n",
    "    elif b=='Days':\n",
    "        n=m*365\n",
    "    elif b=='Hours':\n",
    "        n=m*8766\n",
    "    elif b=='Minutes':\n",
    "        n=m*525600\n",
    "    elif b=='Seconds':\n",
    "        n=m*31536000\n",
    "    print(b,':',n)\n",
    "\n",
    "\n",
    "\n",
    "\n",
    "\n",
    "x=int(input(' What is your age ? '))\n",
    "y=input(\"Please choose time unit :- Months, Weeks, Days, Hours, Minutes, Seconds:\")\n",
    "mine(x,y)"
   ]
  },
  {
   "cell_type": "code",
   "execution_count": null,
   "id": "36a8ead0-da38-408d-ba00-2feeae0d278e",
   "metadata": {},
   "outputs": [],
   "source": []
  }
 ],
 "metadata": {
  "kernelspec": {
   "display_name": "Python 3 (ipykernel)",
   "language": "python",
   "name": "python3"
  },
  "language_info": {
   "codemirror_mode": {
    "name": "ipython",
    "version": 3
   },
   "file_extension": ".py",
   "mimetype": "text/x-python",
   "name": "python",
   "nbconvert_exporter": "python",
   "pygments_lexer": "ipython3",
   "version": "3.12.4"
  }
 },
 "nbformat": 4,
 "nbformat_minor": 5
}
